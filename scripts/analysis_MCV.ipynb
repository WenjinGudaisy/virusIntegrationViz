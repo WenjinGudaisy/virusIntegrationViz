{
 "cells": [
  {
   "cell_type": "code",
   "execution_count": 1,
   "id": "00d6d35c",
   "metadata": {},
   "outputs": [],
   "source": [
    "import pysam\n",
    "import os\n",
    "import pickle\n",
    "import pandas as pd\n",
    "import numpy as np\n",
    "from collections import Counter"
   ]
  },
  {
   "cell_type": "code",
   "execution_count": 5,
   "id": "a84a85a0",
   "metadata": {},
   "outputs": [],
   "source": [
    "#read dataframe\n",
    "MCVinfo = pd.read_excel('MCC_MCPV_v1.xlsx')\n",
    "gtfFileGenome = 'Homo_sapiens.GRCh38.105.transcript.gtf'\n"
   ]
  },
  {
   "cell_type": "markdown",
   "id": "927f8a9f",
   "metadata": {},
   "source": [
    "# Annotate MCPV integration"
   ]
  },
  {
   "cell_type": "code",
   "execution_count": 8,
   "id": "f0a3387c",
   "metadata": {},
   "outputs": [],
   "source": [
    "geneDic = {}\n",
    "with open(gtfFileGenome) as genome:\n",
    "    rows = genome.read().rstrip().split('\\n')\n",
    "    for eachRow in rows:\n",
    "        hasGeneName = False\n",
    "        hasTrID = False\n",
    "        for eachslot in eachRow.split('\\t')[8].split(';'):\n",
    "            if eachslot.split('\"')[0] == ' transcript_id ':\n",
    "                trID = eachslot.split('\"')[1]\n",
    "                hasTrID = True\n",
    "            if eachslot.split('\"')[0] == ' gene_name ':\n",
    "                geneName = eachslot.split('\"')[1]\n",
    "                hasGeneName = True\n",
    "        if not hasTrID:\n",
    "            print(eachRow)\n",
    "        if not hasGeneName:\n",
    "            geneName = trID\n",
    "        chro = eachRow.split('\\t')[0]\n",
    "        start = eachRow.split('\\t')[3]\n",
    "        end = eachRow.split('\\t')[4]\n",
    "        if trID not in geneDic:\n",
    "            geneDic[trID] = [geneName,chro,start,end]\n",
    "        else:\n",
    "            print(eachRow)"
   ]
  },
  {
   "cell_type": "code",
   "execution_count": 9,
   "id": "b1020034",
   "metadata": {},
   "outputs": [],
   "source": [
    "def readData(path):\n",
    "    samples = os.listdir(path)\n",
    "    selectedNewContig = {}\n",
    "    sampleWithFusions = 0\n",
    "    re_run = []\n",
    "    for sample in samples:\n",
    "        if 'Sample_' in sample:\n",
    "            resPath = f\"{path}/{sample}/call_fusion_virus/VirusFusionPointContig.txt\"\n",
    "            resdicPath = f\"{path}/{sample}/call_fusion_virus/filteredSelectedContig.pickle\"\n",
    "            with open(resdicPath,'rb') as resDicFile:\n",
    "                resDic = pickle.load(resDicFile)\n",
    "\n",
    "                selectedNewContig[sample] = resDic\n",
    "            sampleWithFusions += 1\n",
    "    return selectedNewContig, re_run\n",
    "\n"
   ]
  },
  {
   "cell_type": "code",
   "execution_count": 11,
   "id": "01c6739f",
   "metadata": {},
   "outputs": [],
   "source": [
    "path1 = 'MCV_fusion/searcHPV_result/' #workdir\n",
    "all_dic,re_run = readData(path1)"
   ]
  },
  {
   "cell_type": "code",
   "execution_count": 19,
   "id": "dc1d2aa0",
   "metadata": {},
   "outputs": [],
   "source": [
    "#add integrations\n",
    "integrations = []\n",
    "for sample in MCVinfo['Sample name']:\n",
    "    if 'Sample_' + str(sample) in all_dic:\n",
    "        insList = []\n",
    "        for each in all_dic['Sample_' + str(sample)]:\n",
    "            chro = each.split('.')[0]\n",
    "            site = each.split('.')[1]\n",
    "            ins = 'chr' + chro + ':' + site\n",
    "            insList.append(ins)\n",
    "        integrations.append(';'.join(insList))\n",
    "    else:\n",
    "        integrations.append('')"
   ]
  },
  {
   "cell_type": "code",
   "execution_count": 20,
   "id": "55b9d8b7",
   "metadata": {},
   "outputs": [],
   "source": [
    "#add number of integrations, don't add for RM samples\n",
    "numIntegrations = []\n",
    "i = 0\n",
    "for sample in MCVinfo['Sample name']:\n",
    "    if 'Sample_' + str(sample) in all_dic:\n",
    "        numIntegrations.append(len(all_dic['Sample_' + str(sample)].keys()))\n",
    "    else:\n",
    "        numIntegrations.append('NaN')\n"
   ]
  },
  {
   "cell_type": "code",
   "execution_count": 21,
   "id": "ad268b0c",
   "metadata": {},
   "outputs": [],
   "source": [
    "MCVinfo['Num MCV Integration'] = numIntegrations\n",
    "MCVinfo['MCV Integration'] = integrations"
   ]
  },
  {
   "cell_type": "code",
   "execution_count": 25,
   "id": "ec21c2ad",
   "metadata": {},
   "outputs": [],
   "source": [
    "#add MCV breakpoints\n",
    "mcvBreakpoints = []\n",
    "for sample in MCVinfo['Sample name']:\n",
    "    if 'Sample_' + str(sample) in all_dic:\n",
    "        insListForSample = []\n",
    "        for each in all_dic['Sample_' + str(sample)]:\n",
    "            insList = []\n",
    "            for contig in all_dic['Sample_' + str(sample)][each]:\n",
    "                if contig[-1] != 'lowConfidence':\n",
    "                    mcvIns = str(contig[-1])\n",
    "                else:\n",
    "                    mcvIns = str(contig[-2])\n",
    "                insList.append(mcvIns)\n",
    "            insListForSample.append(','.join(insList))\n",
    "        mcvBreakpoints.append(';'.join(insListForSample))\n",
    "    else:\n",
    "        mcvBreakpoints.append('')\n",
    "\n"
   ]
  },
  {
   "cell_type": "code",
   "execution_count": 27,
   "id": "2cf4c1a2",
   "metadata": {},
   "outputs": [],
   "source": [
    "MCVinfo['MCV integration breakpoints on MCV genome'] = mcvBreakpoints"
   ]
  },
  {
   "cell_type": "code",
   "execution_count": 30,
   "id": "f9b9ab24",
   "metadata": {},
   "outputs": [],
   "source": [
    "geneNum = []\n",
    "geneListCol = []\n",
    "for sample in MCVinfo['Sample name']:\n",
    "    if 'Sample_' + str(sample) in all_dic:\n",
    "        geneListSample = []\n",
    "        geneNumSample = []\n",
    "        for each in all_dic['Sample_' + str(sample)]:\n",
    "            geneList = []\n",
    "            chro = each.split('.')[0]\n",
    "            site = each.split('.')[1]\n",
    "            for gene in geneDic:\n",
    "                if chro == geneDic[gene][1] and int(site)>= int(geneDic[gene][2]) and int(site) <= int(geneDic[gene][3]):\n",
    "                    geneList.append(geneDic[gene][0])\n",
    "            geneNumSample += geneList\n",
    "            geneList = set(geneList)\n",
    "            geneListSample.append(geneList)\n",
    "    geneNum.append(len(set(geneNumSample)))\n",
    "    geneListCol.append(geneListSample)\n",
    "        "
   ]
  },
  {
   "cell_type": "code",
   "execution_count": 31,
   "id": "6663cf4f",
   "metadata": {},
   "outputs": [],
   "source": [
    "geneListColNew = []\n",
    "for each in geneListCol:\n",
    "    insGeneList = []\n",
    "    for ins in each:\n",
    "        insGeneList.append(','.join(ins))\n",
    "    geneListColNew.append(';'.join(insGeneList))"
   ]
  },
  {
   "cell_type": "code",
   "execution_count": 32,
   "id": "f426db09",
   "metadata": {},
   "outputs": [],
   "source": [
    "MCVinfo['Total # Host Genes with integration'] = geneNum\n",
    "MCVinfo['Host Genes with integration'] = geneListColNew"
   ]
  },
  {
   "cell_type": "code",
   "execution_count": 34,
   "id": "d598bfd9",
   "metadata": {},
   "outputs": [],
   "source": [
    "#Integrated in at least 1 human gene\n",
    "inGeneList = []\n",
    "for each in geneNum:\n",
    "    inGene = False\n",
    "    if each > 0:\n",
    "        inGene = True\n",
    "    inGeneList.append(inGene)"
   ]
  },
  {
   "cell_type": "code",
   "execution_count": 35,
   "id": "3b0d840b",
   "metadata": {},
   "outputs": [],
   "source": [
    "MCVinfo['Integrated in at least 1 human gene'] = inGeneList"
   ]
  },
  {
   "cell_type": "code",
   "execution_count": 36,
   "id": "0e3510fe",
   "metadata": {},
   "outputs": [],
   "source": [
    "#Integrated in at least 1 human cancer gene (COSMIC Teir1/2)\n",
    "cancerGene = '/nfs/turbo/remillsscr/wenjingu/HPV_fusion/targeted_exom/our_pip/newVersion/analysis/uniprot_COSMIC_oncogenes_list.xlsx'\n",
    "cancerGeneDf = pd.read_excel(cancerGene)\n"
   ]
  },
  {
   "cell_type": "code",
   "execution_count": null,
   "id": "1fcc19b6",
   "metadata": {},
   "outputs": [],
   "source": [
    "cancerGeneList = []\n",
    "cancerGeneDetail = []\n",
    "for sample in MCVinfo['Sample name']:\n",
    "    cancerGene = False\n",
    "    sampleName = 'Sample_' + str(sample)\n",
    "    cancerGeneNameSample = []\n",
    "    if sampleName in all_dic:\n",
    "        for each in all_dic[sampleName]:\n",
    "            cancerGeneName = []\n",
    "            chro = each.split('.')[0]\n",
    "            site = each.split('.')[1]\n",
    "            i = 0\n",
    "            for gene in cancerGeneDf['Gene Symbol']:\n",
    "                if cancerGeneDf['Tier'][i] ==1  or cancerGeneDf['Tier'][i] == 2:\n",
    "                    chro2 = cancerGeneDf['Genome Location'][i].split(\":\")[0]\n",
    "                    start = cancerGeneDf['Genome Location'][i].split(\":\")[1].split('-')[0]\n",
    "                    end = cancerGeneDf['Genome Location'][i].split(\":\")[1].split('-')[1]\n",
    "                    #print(chro2,start,end,cancerGeneDf['Genome Location'][i],gene)\n",
    "                    if chro2!='' and start != '' and end != '':\n",
    "                        if chro == chro2 and int(site) >= int(start) and int(site) <= int(end):\n",
    "                            #print(cancerGene)\n",
    "                            cancerGene = True\n",
    "                            cancerGeneName.append(cancerGeneDf['Gene Symbol'][i])\n",
    "                i += 1\n",
    "            print(set(cancerGeneName))\n",
    "            cancerGeneNameSample.append(\",\".join(set(cancerGeneName)))\n",
    "\n",
    "    print(cancerGeneNameSample)\n",
    "    cancerGeneDetail.append(';'.join(cancerGeneNameSample))                \n",
    "    cancerGeneList.append(cancerGene)\n",
    "\n",
    "\n"
   ]
  },
  {
   "cell_type": "code",
   "execution_count": 39,
   "id": "40908040",
   "metadata": {},
   "outputs": [],
   "source": [
    "cancerGeneList = []\n",
    "cancerGeneDetail = []\n",
    "for sample in MCVinfo['Sample name']:\n",
    "    cancerGene = False\n",
    "    sampleName = 'Sample_' + str(sample)\n",
    "    cancerGeneNameSample = []\n",
    "    if sampleName in all_dic:\n",
    "        for each in all_dic[sampleName]:\n",
    "            chro = each.split('.')[0]\n",
    "            site = each.split('.')[1]\n",
    "            i = 0\n",
    "            for gene in cancerGeneDf['Gene Symbol']:\n",
    "                if cancerGeneDf['Tier'][i] ==1  or cancerGeneDf['Tier'][i] == 2:\n",
    "                    chro2 = cancerGeneDf['Genome Location'][i].split(\":\")[0]\n",
    "                    start = cancerGeneDf['Genome Location'][i].split(\":\")[1].split('-')[0]\n",
    "                    end = cancerGeneDf['Genome Location'][i].split(\":\")[1].split('-')[1]\n",
    "                    #print(chro2,start,end,cancerGeneDf['Genome Location'][i],gene)\n",
    "                    if chro2!='' and start != '' and end != '':\n",
    "                        if chro == chro2 and int(site) >= int(start) and int(site) <= int(end):\n",
    "                            #print(cancerGene)\n",
    "                            cancerGene = True\n",
    "                            cancerGeneNameSample.append(cancerGeneDf['Gene Symbol'][i])\n",
    "                i += 1\n",
    "            \n",
    "    cancerGeneDetail.append(','.join(set(cancerGeneNameSample)))                \n",
    "    cancerGeneList.append(cancerGene)\n"
   ]
  },
  {
   "cell_type": "code",
   "execution_count": 41,
   "id": "c6fbbbf5",
   "metadata": {},
   "outputs": [],
   "source": [
    "MCVinfo['Integrated in at least 1 human cancer gene (COSMIC Teir1/2)'] = cancerGeneList"
   ]
  },
  {
   "cell_type": "code",
   "execution_count": 42,
   "id": "a6232758",
   "metadata": {},
   "outputs": [],
   "source": [
    "MCVinfo['Integrated in at least 1 human cancer gene (COSMIC Teir1/2); Gene Name'] = cancerGeneDetail"
   ]
  },
  {
   "cell_type": "code",
   "execution_count": 45,
   "id": "0e481449",
   "metadata": {},
   "outputs": [],
   "source": [
    "# Annotate MCV genes\n",
    "MCV_dic = {'VP2':[[465,1190]],'VP1':[[1156,2427]],'large_T':[[2503,4722],[5154,5387]],'small_T':[[4827,5387]]}"
   ]
  },
  {
   "cell_type": "code",
   "execution_count": 46,
   "id": "dd66c7df",
   "metadata": {},
   "outputs": [],
   "source": [
    "MCV_gene_list = []\n",
    "for sample in MCVinfo['Sample name']:\n",
    "    if str(sample) != 'nan':\n",
    "        MCV_sample_list = []\n",
    "        for ins in all_dic['Sample_' + str(sample)]:\n",
    "            MCV_ins_list = []\n",
    "            for contig in all_dic['Sample_' + str(sample)][ins]:\n",
    "                if contig[-1] != 'lowConfidence':\n",
    "                    MCV_site = contig[-1]\n",
    "                else:\n",
    "                    MCV_site = contig[-2]\n",
    "                MCV_site_list = []\n",
    "                has_gene = False\n",
    "                for MCV_gene in MCV_dic:\n",
    "                    for slot in MCV_dic[MCV_gene]:\n",
    "                        if MCV_site >= slot[0] and MCV_site <= slot[1]:\n",
    "                            MCV_site_list.append(MCV_gene)\n",
    "                            has_gene = True\n",
    "                if not has_gene:\n",
    "                    MCV_site_list.append('')\n",
    "                MCV_ins_list.append('+'.join(MCV_site_list))\n",
    "            MCV_sample_list.append(','.join(MCV_ins_list))\n",
    "        MCV_gene_list.append(';'.join(MCV_sample_list))\n"
   ]
  },
  {
   "cell_type": "code",
   "execution_count": 47,
   "id": "2f81c1ab",
   "metadata": {},
   "outputs": [],
   "source": [
    "MCV_gene_list = []\n",
    "for sample in MCVinfo['Sample name']:\n",
    "    MCV_sample_list = []\n",
    "    if str(sample) != 'nan':\n",
    "        \n",
    "        for ins in all_dic['Sample_' + str(sample)]:\n",
    "            \n",
    "            for contig in all_dic['Sample_' + str(sample)][ins]:\n",
    "                if contig[-1] != 'lowConfidence':\n",
    "                    MCV_site = contig[-1]\n",
    "                else:\n",
    "                    MCV_site = contig[-2]\n",
    "                MCV_site_list = []\n",
    "                has_gene = False\n",
    "                for MCV_gene in MCV_dic:\n",
    "                    for slot in MCV_dic[MCV_gene]:\n",
    "                        if MCV_site >= slot[0] and MCV_site <= slot[1]:\n",
    "                            MCV_sample_list.append(MCV_gene)\n",
    "                            has_gene = True\n",
    "       \n",
    "               \n",
    "    MCV_gene_list.append(','.join(set(MCV_sample_list)))\n",
    "    \n"
   ]
  },
  {
   "cell_type": "code",
   "execution_count": 48,
   "id": "a75d7450",
   "metadata": {},
   "outputs": [],
   "source": [
    "MCVinfo['MCV breakpoints fell into MCV gene'] = MCV_gene_list "
   ]
  },
  {
   "cell_type": "code",
   "execution_count": 50,
   "id": "183fda0d",
   "metadata": {},
   "outputs": [],
   "source": [
    "MCVinfo.to_excel('MCV_info_v2.xlsx')"
   ]
  },
  {
   "cell_type": "markdown",
   "id": "92640a88",
   "metadata": {},
   "source": [
    "# Input for link plot"
   ]
  },
  {
   "cell_type": "code",
   "execution_count": 52,
   "id": "5d716a27",
   "metadata": {},
   "outputs": [],
   "source": [
    "#link plot\n",
    "hpvIntegrationBed = \"MCVIntegration.bed\"\n",
    "genomeIntegrationBed = \"genomeIntegration_MCV.bed\"\n",
    "with open(genomeIntegrationBed,'w') as outputGenome:\n",
    "    with open(hpvIntegrationBed,'w') as outputHPV:\n",
    "        for sample in MCVinfo['Sample name']:\n",
    "            MCV_sample_list = []\n",
    "            if str(sample) != 'nan':\n",
    "\n",
    "                for ins in all_dic['Sample_' + str(sample)]:\n",
    "                    chro = ins.split('.')[0]\n",
    "                    site = ins.split('.')[1]\n",
    "                    for contig in all_dic['Sample_' + str(sample)][ins]:\n",
    "                        if contig[-1] != 'lowConfidence':\n",
    "                            MCV_site = contig[-1]\n",
    "                        else:\n",
    "                            MCV_site = contig[-2]\n",
    "                        has_gene = False\n",
    "                        for MCV_gene in MCV_dic:\n",
    "                            k = 1\n",
    "                            for slot in MCV_dic[MCV_gene]:\n",
    "                                if MCV_site >= slot[0] and MCV_site <= slot[1]:\n",
    "                                    has_gene = True\n",
    "                                    if len(MCV_dic[MCV_gene]) > 1:\n",
    "                                        outputHPV.write(MCV_gene + f'_{str(k)}' + '\\t' + str(MCV_site*40000) + '\\t' + str(MCV_site* 40000) + '\\n')\n",
    "                                    else:\n",
    "                                        outputHPV.write(MCV_gene + '\\t' + str(MCV_site*40000) + '\\t' + str(MCV_site* 40000) + '\\n')\n",
    "                                    outputGenome.write('chr' + chro + '\\t' + site + '\\t' + site + '\\n')\n",
    "                                k += 1\n",
    "                        if not has_gene:\n",
    "                            if MCV_site >= 0 and MCV_site <= 465:\n",
    "                                outputHPV.write('intergenic_1' + '\\t' + str(MCV_site*40000) + '\\t' + str(MCV_site* 40000) + '\\n') \n",
    "                            elif MCV_site >= 4722 and MCV_site <= 4827:\n",
    "                                outputHPV.write('intergenic_3' + '\\t' + str(MCV_site*40000) + '\\t' + str(MCV_site* 40000) + '\\n') \n",
    "                            elif MCV_site >= 2427 and MCV_site <= 2503: \n",
    "                                outputHPV.write('intergenic_2' + '\\t' + str(MCV_site*40000) + '\\t' + str(MCV_site* 40000) + '\\n') \n",
    "                            else:\n",
    "                                print(MCV_site)\n",
    "                            outputGenome.write('chr' + chro + '\\t' + site + '\\t' + site + '\\n')\n"
   ]
  },
  {
   "cell_type": "code",
   "execution_count": 54,
   "id": "090b68b3",
   "metadata": {},
   "outputs": [
    {
     "name": "stdout",
     "output_type": "stream",
     "text": [
      "intergenic_1\t17400000\t17400000\r\n",
      "large_T_1\t164040000\t164040000\r\n",
      "VP2\t30480000\t30480000\r\n",
      "VP1\t96520000\t96520000\r\n",
      "large_T_1\t122040000\t122040000\r\n",
      "VP1\t77520000\t77520000\r\n",
      "VP1\t48000000\t48000000\r\n",
      "large_T_1\t162600000\t162600000\r\n",
      "VP1\t72880000\t72880000\r\n",
      "large_T_1\t110080000\t110080000\r\n"
     ]
    }
   ],
   "source": [
    "!head MCVIntegration.bed"
   ]
  },
  {
   "cell_type": "code",
   "execution_count": 55,
   "id": "32dd252e",
   "metadata": {},
   "outputs": [
    {
     "name": "stdout",
     "output_type": "stream",
     "text": [
      "chr5\t2741236\t2741236\r\n",
      "chr5\t2741236\t2741236\r\n",
      "chr12\t69563890\t69563890\r\n",
      "chr12\t69757363\t69757363\r\n",
      "chr6\t10418728\t10418728\r\n",
      "chr6\t10418728\t10418728\r\n",
      "chr4\t105235259\t105235259\r\n",
      "chr1\t179121589\t179121589\r\n",
      "chr14\t98704650\t98704650\r\n",
      "chr14\t98704650\t98704650\r\n"
     ]
    }
   ],
   "source": [
    "!head genomeIntegration_MCV.bed"
   ]
  },
  {
   "cell_type": "markdown",
   "id": "42938c7c",
   "metadata": {},
   "source": [
    "# MCV integration distribution on MCV genes"
   ]
  },
  {
   "cell_type": "code",
   "execution_count": null,
   "id": "320fb792",
   "metadata": {},
   "outputs": [],
   "source": [
    "#observed MCV gene count\n",
    "MCV_gene_list = []\n",
    "for sample in MCVinfo['Sample name']:\n",
    "    if str(sample) != 'nan':\n",
    "        \n",
    "        for ins in all_dic['Sample_' + str(sample)]:\n",
    "            \n",
    "            for contig in all_dic['Sample_' + str(sample)][ins]:\n",
    "                if contig[-1] != 'lowConfidence':\n",
    "                    MCV_site = contig[-1]\n",
    "                else:\n",
    "                    MCV_site = contig[-2]\n",
    "                MCV_site_list = []\n",
    "                has_gene = False\n",
    "                for MCV_gene in MCV_dic:\n",
    "                    for slot in MCV_dic[MCV_gene]:\n",
    "                        if MCV_site >= slot[0] and MCV_site <= slot[1]:\n",
    "                            MCV_gene_list.append(MCV_gene)\n",
    "                            has_gene = True\n",
    "  \n",
    "    \n",
    "print(MCV_gene_list)\n",
    "countDic = dict(Counter(MCV_gene_list))\n",
    "countDfMCV = pd.DataFrame.from_dict(countDic,orient='index')"
   ]
  },
  {
   "cell_type": "code",
   "execution_count": 57,
   "id": "fd223638",
   "metadata": {},
   "outputs": [],
   "source": [
    "#expect hpv integration count\n",
    "totSite = 0\n",
    "for each in countDic:\n",
    "    totSite += countDic[each]\n",
    "mcvLenDic = {}\n",
    "totLen = 0\n",
    "for site in MCV_dic:\n",
    "    mcvLen = 0\n",
    "    for each in MCV_dic[site]:\n",
    "        mcvLen += int(each[1])-int(each[0])\n",
    "    mcvLenDic[site] = mcvLen\n",
    "    totLen += mcvLen\n",
    "expectMCV = {}\n",
    "for each in mcvLenDic:\n",
    "    prob = mcvLenDic[each]/totLen\n",
    "    expectCount = round(totSite*prob)\n",
    "    expectMCV[each] = expectCount"
   ]
  },
  {
   "cell_type": "code",
   "execution_count": 58,
   "id": "03baee9b",
   "metadata": {},
   "outputs": [],
   "source": [
    "expectMCVDf = pd.DataFrame.from_dict(expectMCV,orient = 'index')\n",
    "countDfHPV = pd.DataFrame.merge(countDfMCV,expectMCVDf,left_index = True,right_index=True)\n",
    "countDfHPV.columns = ['observed','expected']\n",
    "countDfHPV.to_csv('MCV_gene.csv')"
   ]
  },
  {
   "cell_type": "markdown",
   "id": "53767594",
   "metadata": {},
   "source": [
    "# Microhomology"
   ]
  },
  {
   "cell_type": "code",
   "execution_count": 102,
   "id": "2e7965e6",
   "metadata": {},
   "outputs": [],
   "source": [
    "#get blockList\n",
    "def getBlock2(bam):\n",
    "    sam = pysam.AlignmentFile(bam, \"rb\")\n",
    "    blockList = {}#blockList[contig] = [start,end,cigarString]\n",
    "    high_quality_contig = []\n",
    "    for read in sam.fetch():\n",
    "        start = read.pos\n",
    "        contig = read.qname\n",
    "        blocks = read.get_blocks()\n",
    "        cigar = read.cigartuples\n",
    "        length = read.infer_read_length()\n",
    "        if read.mapping_quality >= 0:\n",
    "            #if start with clip\n",
    "            high_quality_contig.append(contig)\n",
    "            start = 0\n",
    "            end = 0\n",
    "            for eachSlot in cigar:\n",
    "                end += eachSlot[1]\n",
    "                if not read.is_reverse:\n",
    "                    if contig not in blockList:\n",
    "                        blockList[contig] = [[start,end,eachSlot[0]]]\n",
    "                    else:\n",
    "                        blockList[contig].append([start,end,eachSlot[0]])\n",
    "                else:\n",
    "                    if contig not in blockList:\n",
    "                        blockList[contig] = [[length-end + 1,length-start + 1,eachSlot[0]]]\n",
    "                    else:\n",
    "                        blockList[contig].append([length-end + 1,length-start + 1,eachSlot[0]])\n",
    "                start += eachSlot[1]\n",
    "        newBlockList = {}\n",
    "        for contig in blockList:\n",
    "            for each in  blockList[contig]:\n",
    "                if each[2] == 0:\n",
    "                    if contig not in newBlockList:\n",
    "                        newBlockList[contig] = [[each[0],each[1]]]\n",
    "                    else:\n",
    "                        newBlockList[contig].append([each[0],each[1]])\n",
    "                \n",
    "    return newBlockList,high_quality_contig"
   ]
  },
  {
   "cell_type": "code",
   "execution_count": 103,
   "id": "c41f2067",
   "metadata": {},
   "outputs": [],
   "source": [
    "#count overlap\n",
    "def countOverlap(selectedContig,genomeBlock,hpvBlock):\n",
    "    scoreDic = {}\n",
    "    for each in selectedContig:\n",
    "        score = 0\n",
    "        overlap = False\n",
    "        cleanEnd = False\n",
    "        for slot1 in genomeBlock[each]:\n",
    "            start1 = slot1[0]\n",
    "            end1 = slot1[1]\n",
    "            for slot2 in hpvBlock[each]:\n",
    "                start2 = slot2[0]\n",
    "                end2 = slot2[1]\n",
    "                # overlap\n",
    "                oldScore = score\n",
    "                if start2 <= end1 and start1 <= end2:\n",
    "                    overlap = True\n",
    "                    if end1-start2 > end2-start1:\n",
    "                        newScore = end2-start1 + 1\n",
    "                    else:\n",
    "                        newScore = end1-start2 + 1\n",
    "                    if newScore > oldScore:\n",
    "                        score = newScore\n",
    "        #clean end\n",
    "        if overlap == False:\n",
    "            score = 0\n",
    "            for slot1 in genomeBlock[each]:\n",
    "                start1 = slot1[0]\n",
    "                end1 = slot1[1]\n",
    "                for slot2 in hpvBlock[each]:\n",
    "                    start2 = slot2[0]\n",
    "                    end2 = slot2[1]\n",
    "                    #clean end\n",
    "                    if start2 == end1 + 1 or start1 == end2 + 1:\n",
    "                        cleanEnd = True\n",
    "                        score += 0\n",
    "            #gap\n",
    "            if overlap == False and cleanEnd == False:\n",
    "                score = 0\n",
    "                for slot1 in genomeBlock[each]:\n",
    "                    start1 = slot1[0]\n",
    "                    end1 = slot1[1]\n",
    "                    for slot2 in hpvBlock[each]:\n",
    "                        start2 = slot2[0]\n",
    "                        end2 = slot2[1]\n",
    "                        #gap\n",
    "                        oldScore = score\n",
    "                        if end1 < start2 or end2 < start1:\n",
    "                            if end1 < start2:\n",
    "                                newScore2 = -(start2 - end1 - 1)\n",
    "                            elif end2 < start1:\n",
    "                                newScore2 = -(start1 - end2 - 1)\n",
    "                            if newScore2 > oldScore and oldScore != 0:\n",
    "                                score = newScore2\n",
    "                                #print(newScore2)\n",
    "                            elif oldScore == 0:\n",
    "                                score = newScore2\n",
    "        #filter score > 100 or <-100\n",
    "#         if score < 100 and score > -100:\n",
    "        scoreDic[each] = score\n",
    "    return(scoreDic)"
   ]
  },
  {
   "cell_type": "code",
   "execution_count": null,
   "id": "cd9f8875",
   "metadata": {
    "scrolled": true
   },
   "outputs": [],
   "source": [
    "scoreList = []\n",
    "\n",
    "path = '/home/wenjingu/scratch/MCV_fusion/searcHPV_result/'\n",
    "for sample in MCVinfo['Sample name']:\n",
    "    if str(sample) != 'nan':\n",
    "        sampleName = 'Sample_' + str(sample)\n",
    "        resPath = f'{path}/{sampleName}/call_fusion_virus/'\n",
    "        finalRes = f'{resPath}/filteredSelectedContig.pickle'\n",
    "        with open(finalRes,'rb') as inputFile:\n",
    "            resDic = pickle.load(inputFile)\n",
    "        for each in resDic:\n",
    "            if os.path.isdir(resPath + each):\n",
    "                alignGenome = f'{resPath}/{each}/{each}.contigToGenome.sort.bam'\n",
    "                alignHPV = f'{resPath}/{each}/{each}.contigToVirus.sort.bam'\n",
    "                genomeBlock,high_quality_contig = getBlock2(alignGenome)\n",
    "                hpvBlock,high_quality_contig2 = getBlock2(alignHPV)\n",
    "                #selected Contig\n",
    "                selectedContig = []\n",
    "                for eachSlot in resDic[each]:\n",
    "                    selectedContig.append(eachSlot[0])\n",
    "                print(high_quality_contig)\n",
    "                print(selectedContig)\n",
    "                selectedContig = [each for each in selectedContig if each in high_quality_contig]\n",
    "                selectedContig = [each for each in selectedContig if each in high_quality_contig2]\n",
    "                #count overlap bp\n",
    "                print(hpvBlock)\n",
    "                print(selectedContig)\n",
    "                scoreDic = countOverlap(selectedContig,genomeBlock,hpvBlock)\n",
    "                for contig in scoreDic:\n",
    "                    scoreList.append(scoreDic[contig])\n",
    "                print(sample,each,scoreDic)\n",
    "        #print(scoreList)"
   ]
  },
  {
   "cell_type": "code",
   "execution_count": null,
   "id": "a7f11f49",
   "metadata": {},
   "outputs": [],
   "source": [
    "with open('score.csv','w') as f:\n",
    "    for each in scoreList:\n",
    "        f.write(each+',')"
   ]
  },
  {
   "cell_type": "markdown",
   "id": "6b89a226",
   "metadata": {},
   "source": [
    "# Information for MCPV gene link plots"
   ]
  },
  {
   "cell_type": "code",
   "execution_count": 67,
   "id": "d4775c40",
   "metadata": {},
   "outputs": [],
   "source": [
    "sample = '83092/alignment/alignment.RG.indelre.mkdup.sort.bam' #use one bam to extract information about reference\n",
    "test = pysam.AlignmentFile(sample, \"rb\")"
   ]
  },
  {
   "cell_type": "code",
   "execution_count": 70,
   "id": "d8c58d3c",
   "metadata": {},
   "outputs": [],
   "source": [
    "chr_len = {}\n",
    "for i in range(0,22):\n",
    "    chr_len[int(test.references[i])] = test.lengths[i]"
   ]
  },
  {
   "cell_type": "code",
   "execution_count": 71,
   "id": "2caad086",
   "metadata": {},
   "outputs": [],
   "source": [
    "ordered_chr_len = {}\n",
    "for key in sorted(chr_len):\n",
    "    ordered_chr_len[key] = chr_len[key]\n",
    "ordered_chr_len[test.references[23]] = test.lengths[23]\n",
    "ordered_chr_len[test.references[24]] = test.lengths[24]"
   ]
  },
  {
   "cell_type": "code",
   "execution_count": 75,
   "id": "cdb9b5a4",
   "metadata": {},
   "outputs": [],
   "source": [
    "#generate bed file\n",
    "bedFile = 'MCV_track.bed'\n",
    "with open(bedFile,'w') as output:\n",
    "    for gene in MCV_dic:\n",
    "        k = 1\n",
    "        for slot in MCV_dic[gene]:\n",
    "            start = str((slot[0]-1)*40000)\n",
    "            end = str((slot[1]-1)*40000)\n",
    "            \n",
    "            if len(MCV_dic[gene]) > 1:\n",
    "                output.write(f'{gene}_{str(k)}\\t{start}\\t{end}\\n')\n",
    "            else:\n",
    "                output.write(f'{gene}\\t{start}\\t{end}\\n')\n",
    "            k += 1\n",
    "    inter1_end = str(464*40000)\n",
    "    inter2_start = str(2426*40000)\n",
    "    inter2_end = str(2502*40000)\n",
    "    inter3_start = str(4721*40000)\n",
    "    inter3_end = str(4826*40000)\n",
    "    \n",
    "    output.write(f'intergenic_1\\t0\\t{inter1_end}\\n')\n",
    "    output.write(f'intergenic_2\\t{inter2_start}\\t{inter2_end}\\n')\n",
    "    output.write(f'intergenic_3\\t{inter3_start}\\t{inter3_end}\\n')\n",
    "\n",
    "    for chro in ordered_chr_len:\n",
    "        end = str(ordered_chr_len[chro])\n",
    "        output.write(f'chr{chro}\\t0\\t{end}\\n')\n"
   ]
  },
  {
   "cell_type": "code",
   "execution_count": 76,
   "id": "7e83e59f",
   "metadata": {},
   "outputs": [
    {
     "name": "stdout",
     "output_type": "stream",
     "text": [
      "VP2\t18560000\t47560000\r\n",
      "VP1\t46200000\t97040000\r\n",
      "large_T_1\t100080000\t188840000\r\n",
      "large_T_2\t206120000\t215440000\r\n",
      "small_T\t193040000\t215440000\r\n",
      "intergenic_1\t0\t18560000\r\n",
      "intergenic_2\t97040000\t100080000\r\n",
      "intergenic_3\t188840000\t193040000\r\n",
      "chr1\t0\t248956422\r\n",
      "chr2\t0\t242193529\r\n"
     ]
    }
   ],
   "source": [
    "!head MCV_track.bed"
   ]
  },
  {
   "cell_type": "code",
   "execution_count": 77,
   "id": "f008315d",
   "metadata": {},
   "outputs": [
    {
     "data": {
      "text/plain": [
       "{'VP2': [[465, 1190]],\n",
       " 'VP1': [[1156, 2427]],\n",
       " 'large_T': [[2503, 4722], [5154, 5387]],\n",
       " 'small_T': [[4827, 5387]]}"
      ]
     },
     "execution_count": 77,
     "metadata": {},
     "output_type": "execute_result"
    }
   ],
   "source": [
    "MCV_dic"
   ]
  },
  {
   "cell_type": "code",
   "execution_count": 78,
   "id": "817745d7",
   "metadata": {},
   "outputs": [],
   "source": [
    "#generate label file\n",
    "labelFile = 'label.bed'\n",
    "with open(labelFile,'w') as output:\n",
    "    for gene in MCV_dic:\n",
    "        k = 1\n",
    "        for slot in MCV_dic[gene]:\n",
    "            start = str((slot[0]-1)*40000/2)\n",
    "            end = str((slot[1]-1)*40000/2)\n",
    "            \n",
    "            if len(MCV_dic[gene]) > 1:\n",
    "                output.write(f'{gene}_{str(k)}\\t{start}\\t{end}\\t{gene}\\n')\n",
    "            else:\n",
    "                output.write(f'{gene}\\t{start}\\t{end}\\t{gene}\\n')\n",
    "            k += 1\n",
    "    inter1_end = str(464*40000/2)\n",
    "    inter2_start = str(2426*40000/2)\n",
    "    inter2_end = str(2502*40000/2)\n",
    "    inter3_start = str(4721*40000/2)\n",
    "    inter3_end = str(4826*40000/2)\n",
    "    output.write(f'intergenic_1\\t0\\t{inter1_end}\\tintergenic\\n')\n",
    "    output.write(f'intergenic_2\\t{inter2_start}\\t{inter2_end}\\tintergenic\\n')\n",
    "    output.write(f'intergenic_3\\t{inter3_start}\\t{inter3_end}\\n')\n",
    "\n",
    "    for chro in ordered_chr_len:\n",
    "        end = str(ordered_chr_len[chro]/2)\n",
    "        output.write(f'chr{chro}\\t0\\t{end}\\tchr{chro}\\n')\n"
   ]
  },
  {
   "cell_type": "code",
   "execution_count": 79,
   "id": "b8e63434",
   "metadata": {},
   "outputs": [
    {
     "name": "stdout",
     "output_type": "stream",
     "text": [
      "VP2\t18560000\t47560000\r\n",
      "VP1\t46200000\t97040000\r\n",
      "large_T_1\t100080000\t188840000\r\n",
      "large_T_2\t206120000\t215440000\r\n",
      "small_T\t193040000\t215440000\r\n",
      "intergenic_1\t0\t18560000\r\n",
      "intergenic_2\t97040000\t100080000\r\n",
      "intergenic_3\t188840000\t193040000\r\n",
      "chr1\t0\t248956422\r\n",
      "chr2\t0\t242193529\r\n"
     ]
    }
   ],
   "source": [
    "!head MCV_track.bed"
   ]
  },
  {
   "cell_type": "code",
   "execution_count": 80,
   "id": "d3dd8df0",
   "metadata": {},
   "outputs": [
    {
     "name": "stdout",
     "output_type": "stream",
     "text": [
      "VP2\t9280000.0\t23780000.0\tVP2\r\n",
      "VP1\t23100000.0\t48520000.0\tVP1\r\n",
      "large_T_1\t50040000.0\t94420000.0\tlarge_T\r\n",
      "large_T_2\t103060000.0\t107720000.0\tlarge_T\r\n",
      "small_T\t96520000.0\t107720000.0\tsmall_T\r\n",
      "intergenic_1\t0\t9280000.0\tintergenic\r\n",
      "intergenic_2\t48520000.0\t50040000.0\tintergenic\r\n",
      "intergenic_3\t94420000.0\t96520000.0\r\n",
      "chr1\t0\t124478211.0\tchr1\r\n",
      "chr2\t0\t121096764.5\tchr2\r\n"
     ]
    }
   ],
   "source": [
    "!head label.bed"
   ]
  },
  {
   "cell_type": "code",
   "execution_count": null,
   "id": "d04100fa",
   "metadata": {},
   "outputs": [],
   "source": []
  }
 ],
 "metadata": {
  "kernelspec": {
   "display_name": "base",
   "language": "python",
   "name": "python3"
  },
  "language_info": {
   "codemirror_mode": {
    "name": "ipython",
    "version": 3
   },
   "file_extension": ".py",
   "mimetype": "text/x-python",
   "name": "python",
   "nbconvert_exporter": "python",
   "pygments_lexer": "ipython3",
   "version": "3.8.8"
  }
 },
 "nbformat": 4,
 "nbformat_minor": 5
}
